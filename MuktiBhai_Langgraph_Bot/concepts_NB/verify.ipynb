{
 "cells": [
  {
   "cell_type": "markdown",
   "metadata": {},
   "source": [
    "# only node can put the change in state variables not the tools"
   ]
  },
  {
   "cell_type": "code",
   "execution_count": 19,
   "metadata": {},
   "outputs": [],
   "source": [
    "from typing import Annotated\n",
    "from langchain_core.messages import AnyMessage\n",
    "from langgraph.graph.message import add_messages\n",
    "from typing_extensions import TypedDict\n",
    "\n",
    "\n",
    "class Overall_State(TypedDict):\n",
    "    messages: Annotated[list[AnyMessage], add_messages]\n",
    "    output: str\n"
   ]
  },
  {
   "cell_type": "code",
   "execution_count": 20,
   "metadata": {},
   "outputs": [],
   "source": [
    "from langchain_core.tools import tool\n",
    "\n",
    "@tool(\"add\", return_direct=True)\n",
    "def add(a: int , b: int) -> str:\n",
    "   \n",
    "    \"\"\"\n",
    "    Tool to add two numbers together.\n",
    "\n",
    "    Args:\n",
    "        a (int): first number\n",
    "        b (int): second number\n",
    "\n",
    "    Returns:\n",
    "        str: the result of the addition as a string\n",
    "    \"\"\"\n",
    "\n",
    "    summation = a + b\n",
    "\n",
    "    return summation"
   ]
  },
  {
   "cell_type": "code",
   "execution_count": 21,
   "metadata": {},
   "outputs": [],
   "source": [
    "from utils.getLLM import get_llm_embedings\n",
    "llm = get_llm_embedings(\"open_ai\")[\"llm\"]\n",
    "llm_with_tools = llm.bind_tools([add])"
   ]
  },
  {
   "cell_type": "code",
   "execution_count": 22,
   "metadata": {},
   "outputs": [],
   "source": [
    "\n",
    "from langgraph.graph import StateGraph, START, END\n",
    "from langgraph.prebuilt import ToolNode, tools_condition\n",
    "from langchain_core.messages import HumanMessage\n",
    "\n",
    "\n",
    "def chatbot(state: Overall_State):\n",
    "    return {\"messages\": [llm_with_tools.invoke(state[\"messages\"])]}\n",
    "\n",
    "graph_builder = StateGraph(Overall_State)\n",
    "\n",
    "graph_builder.add_node(\"assistant\", chatbot)\n",
    "graph_builder.add_node(\"tools\",ToolNode([add]))\n",
    "\n",
    "graph_builder.add_edge(START, \"assistant\")\n",
    "\n",
    "graph_builder.add_conditional_edges(\n",
    "    \"assistant\",\n",
    "    tools_condition,\n",
    ")\n",
    "\n",
    "graph_builder.add_edge(\"tools\", \"assistant\")\n",
    "\n",
    "graph = graph_builder.compile()\n"
   ]
  },
  {
   "cell_type": "code",
   "execution_count": 23,
   "metadata": {},
   "outputs": [
    {
     "data": {
      "image/png": "[encoded data removed]",
      "text/plain": [
       "<IPython.core.display.Image object>"
      ]
     },
     "metadata": {},
     "output_type": "display_data"
    }
   ],
   "source": [
    "from IPython.display import Image, display\n",
    "\n",
    "try:\n",
    "    display(Image(graph.get_graph().draw_mermaid_png()))\n",
    "except Exception:\n",
    "\n",
    "    pass"
   ]
  },
  {
   "cell_type": "code",
   "execution_count": 24,
   "metadata": {},
   "outputs": [],
   "source": [
    "\n",
    "output = graph.invoke({\"messages\": [HumanMessage(content=\"2+2\")]})   "
   ]
  },
  {
   "cell_type": "code",
   "execution_count": 25,
   "metadata": {},
   "outputs": [
    {
     "data": {
      "text/plain": [
       "{'messages': [HumanMessage(content='2+2', additional_kwargs={}, response_metadata={}, id='e4731c50-e7c5-4725-92c4-ad425e5f50d1'),\n",
       "  AIMessage(content='', additional_kwargs={'tool_calls': [{'id': 'call_uFSyeABk6rFlRugePdUNBYG1', 'function': {'arguments': '{\"a\":2,\"b\":2}', 'name': 'add'}, 'type': 'function'}], 'refusal': None}, response_metadata={'token_usage': {'completion_tokens': 18, 'prompt_tokens': 81, 'total_tokens': 99, 'completion_tokens_details': {'accepted_prediction_tokens': 0, 'audio_tokens': 0, 'reasoning_tokens': 0, 'rejected_prediction_tokens': 0}, 'prompt_tokens_details': {'audio_tokens': 0, 'cached_tokens': 0}}, 'model_name': 'gpt-4o-mini-2024-07-18', 'system_fingerprint': 'fp_06737a9306', 'finish_reason': 'tool_calls', 'logprobs': None}, id='run-902ed9b6-4ac3-4f90-a2a2-1068e11c9695-0', tool_calls=[{'name': 'add', 'args': {'a': 2, 'b': 2}, 'id': 'call_uFSyeABk6rFlRugePdUNBYG1', 'type': 'tool_call'}], usage_metadata={'input_tokens': 81, 'output_tokens': 18, 'total_tokens': 99, 'input_token_details': {'audio': 0, 'cache_read': 0}, 'output_token_details': {'audio': 0, 'reasoning': 0}}),\n",
       "  ToolMessage(content='4', name='add', id='a7b5af84-a76b-4cc0-bf68-f2278d724582', tool_call_id='call_uFSyeABk6rFlRugePdUNBYG1'),\n",
       "  AIMessage(content='The result of \\\\(2 + 2\\\\) is \\\\(4\\\\).', additional_kwargs={'refusal': None}, response_metadata={'token_usage': {'completion_tokens': 17, 'prompt_tokens': 106, 'total_tokens': 123, 'completion_tokens_details': {'accepted_prediction_tokens': 0, 'audio_tokens': 0, 'reasoning_tokens': 0, 'rejected_prediction_tokens': 0}, 'prompt_tokens_details': {'audio_tokens': 0, 'cached_tokens': 0}}, 'model_name': 'gpt-4o-mini-2024-07-18', 'system_fingerprint': 'fp_06737a9306', 'finish_reason': 'stop', 'logprobs': None}, id='run-e519f465-7030-4cfa-be07-e910af405faa-0', usage_metadata={'input_tokens': 106, 'output_tokens': 17, 'total_tokens': 123, 'input_token_details': {'audio': 0, 'cache_read': 0}, 'output_token_details': {'audio': 0, 'reasoning': 0}})]}"
      ]
     },
     "execution_count": 25,
     "metadata": {},
     "output_type": "execute_result"
    }
   ],
   "source": [
    "output"
   ]
  },
  {
   "cell_type": "markdown",
   "metadata": {},
   "source": [
    "# lets change the state from node"
   ]
  },
  {
   "cell_type": "code",
   "execution_count": 26,
   "metadata": {},
   "outputs": [],
   "source": [
    "\n",
    "from langgraph.graph import StateGraph, START, END\n",
    "from langgraph.prebuilt import ToolNode, tools_condition\n",
    "from langchain_core.messages import HumanMessage\n",
    "\n",
    "#node\n",
    "def putOutput(state: Overall_State):\n",
    "    output= state[\"messages\"][-1].content\n",
    "    return {\"output\":output}\n",
    "\n",
    "def chatbot(state: Overall_State):\n",
    "    return {\"messages\": [llm_with_tools.invoke(state[\"messages\"])]}\n",
    "\n",
    "graph_builder = StateGraph(Overall_State)\n",
    "\n",
    "graph_builder.add_node(\"assistant\", chatbot)\n",
    "graph_builder.add_node(\"tools\",ToolNode([add]))\n",
    "graph_builder.add_node(\"addoutput\",putOutput)\n",
    "\n",
    "graph_builder.add_edge(START, \"assistant\")\n",
    "\n",
    "graph_builder.add_conditional_edges(\n",
    "    \"assistant\",\n",
    "    tools_condition,\n",
    ")\n",
    "\n",
    "graph_builder.add_edge(\"tools\", \"addoutput\")\n",
    "graph_builder.add_edge(\"addoutput\", \"assistant\")\n",
    "\n",
    "\n",
    "graph = graph_builder.compile()\n"
   ]
  },
  {
   "cell_type": "code",
   "execution_count": 27,
   "metadata": {},
   "outputs": [
    {
     "data": {
      "image/png": "[encoded data removed]",
      "text/plain": [
       "<IPython.core.display.Image object>"
      ]
     },
     "metadata": {},
     "output_type": "display_data"
    }
   ],
   "source": [
    "from IPython.display import Image, display\n",
    "\n",
    "try:\n",
    "    display(Image(graph.get_graph().draw_mermaid_png()))\n",
    "except Exception:\n",
    "\n",
    "    pass"
   ]
  },
  {
   "cell_type": "code",
   "execution_count": 28,
   "metadata": {},
   "outputs": [
    {
     "data": {
      "text/plain": [
       "{'messages': [HumanMessage(content='5+2', additional_kwargs={}, response_metadata={}, id='834c725b-7c47-4e30-9111-8eacb86a51be'),\n",
       "  AIMessage(content='', additional_kwargs={'tool_calls': [{'id': 'call_DK9cKe31csZEBF1qx722ZFM0', 'function': {'arguments': '{\"a\":5,\"b\":2}', 'name': 'add'}, 'type': 'function'}], 'refusal': None}, response_metadata={'token_usage': {'completion_tokens': 18, 'prompt_tokens': 81, 'total_tokens': 99, 'completion_tokens_details': {'accepted_prediction_tokens': 0, 'audio_tokens': 0, 'reasoning_tokens': 0, 'rejected_prediction_tokens': 0}, 'prompt_tokens_details': {'audio_tokens': 0, 'cached_tokens': 0}}, 'model_name': 'gpt-4o-mini-2024-07-18', 'system_fingerprint': 'fp_06737a9306', 'finish_reason': 'tool_calls', 'logprobs': None}, id='run-259a4544-7097-404a-99ad-c85e3ff9a99a-0', tool_calls=[{'name': 'add', 'args': {'a': 5, 'b': 2}, 'id': 'call_DK9cKe31csZEBF1qx722ZFM0', 'type': 'tool_call'}], usage_metadata={'input_tokens': 81, 'output_tokens': 18, 'total_tokens': 99, 'input_token_details': {'audio': 0, 'cache_read': 0}, 'output_token_details': {'audio': 0, 'reasoning': 0}}),\n",
       "  ToolMessage(content='7', name='add', id='8d90fafb-f793-4ac5-89b4-5f89974ffdad', tool_call_id='call_DK9cKe31csZEBF1qx722ZFM0'),\n",
       "  AIMessage(content='The result of \\\\(5 + 2\\\\) is \\\\(7\\\\).', additional_kwargs={'refusal': None}, response_metadata={'token_usage': {'completion_tokens': 17, 'prompt_tokens': 106, 'total_tokens': 123, 'completion_tokens_details': {'accepted_prediction_tokens': 0, 'audio_tokens': 0, 'reasoning_tokens': 0, 'rejected_prediction_tokens': 0}, 'prompt_tokens_details': {'audio_tokens': 0, 'cached_tokens': 0}}, 'model_name': 'gpt-4o-mini-2024-07-18', 'system_fingerprint': 'fp_06737a9306', 'finish_reason': 'stop', 'logprobs': None}, id='run-d32656ea-3633-4fbd-b291-5917961bf135-0', usage_metadata={'input_tokens': 106, 'output_tokens': 17, 'total_tokens': 123, 'input_token_details': {'audio': 0, 'cache_read': 0}, 'output_token_details': {'audio': 0, 'reasoning': 0}})],\n",
       " 'output': '7'}"
      ]
     },
     "execution_count": 28,
     "metadata": {},
     "output_type": "execute_result"
    }
   ],
   "source": [
    "\n",
    "output = graph.invoke({\"messages\": [HumanMessage(content=\"5+2\")]})   \n",
    "\n",
    "output"
   ]
  }
 ],
 "metadata": {
  "kernelspec": {
   "display_name": "MuktiGraphLLM",
   "language": "python",
   "name": "python3"
  },
  "language_info": {
   "codemirror_mode": {
    "name": "ipython",
    "version": 3
   },
   "file_extension": ".py",
   "mimetype": "text/x-python",
   "name": "python",
   "nbconvert_exporter": "python",
   "pygments_lexer": "ipython3",
   "version": "3.12.6"
  }
 },
 "nbformat": 4,
 "nbformat_minor": 2
}
